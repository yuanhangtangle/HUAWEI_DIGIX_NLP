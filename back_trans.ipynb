{
 "cells": [
  {
   "cell_type": "code",
   "execution_count": 92,
   "metadata": {},
   "outputs": [],
   "source": [
    "import json\n",
    "import os\n",
    "from backTrans.baidu_trans import backTrans as bt\n",
    "import backTrans.baidu_trans\n",
    "import json\n",
    "from time import sleep\n",
    "from tqdm import tqdm\n",
    "from utils.utils import read_json_to_dataframe\n",
    "import seaborn as sns\n",
    "import matplotlib.pyplot as plt\n",
    "from utils.preprocessor import Preprocessor"
   ]
  },
  {
   "cell_type": "code",
   "execution_count": 2,
   "metadata": {},
   "outputs": [],
   "source": [
    "fail_path = 'backTrans/failFiles'\n",
    "succ_path = 'backTrans/succFiles'\n",
    "paths = [fail_path, succ_path]"
   ]
  },
  {
   "cell_type": "code",
   "execution_count": 3,
   "metadata": {},
   "outputs": [
    {
     "name": "stdout",
     "output_type": "stream",
     "text": [
      "backTrans/failFiles 2240\n",
      "backTrans/succFiles 98896\n"
     ]
    }
   ],
   "source": [
    "for p in paths:\n",
    "    d = os.listdir(p)\n",
    "    print(p,len(d))"
   ]
  },
  {
   "cell_type": "code",
   "execution_count": 4,
   "metadata": {},
   "outputs": [
    {
     "data": {
      "text/plain": [
       "101136"
      ]
     },
     "execution_count": 4,
     "metadata": {},
     "output_type": "execute_result"
    }
   ],
   "source": [
    "98896 + 2240"
   ]
  },
  {
   "cell_type": "markdown",
   "metadata": {},
   "source": [
    "## deal with fail Files"
   ]
  },
  {
   "cell_type": "code",
   "execution_count": 4,
   "metadata": {},
   "outputs": [],
   "source": [
    "def get_num(p):\n",
    "    return int(p[0:-5])\n",
    "\n",
    "d = os.listdir(fail_path)\n",
    "d = list(map(get_num,d))\n",
    "d.sort()"
   ]
  },
  {
   "cell_type": "code",
   "execution_count": null,
   "metadata": {},
   "outputs": [],
   "source": [
    "file_path = 'data/train/doc_quality_data_train.json'\n",
    "ERROR = 'ERROR'\n",
    "n = 0\n",
    "with open(file_path, 'r') as f:\n",
    "    for idx, line in enumerate(f):\n",
    "        if idx > 101136:\n",
    "            break\n",
    "        if not idx in d:\n",
    "            continue\n",
    "        n += 1\n",
    "        l = json.loads(line)\n",
    "        q = l['body'].replace('\\n', '#|#|#')\n",
    "        s, re1, re2 = bt(q)\n",
    "        if s == ERROR:\n",
    "            with open('backTrans/temp/{}.json'.format(idx), 'w') as fail_f:\n",
    "                json.dump([idx, l['id'], re1, re2], fail_f)\n",
    "                print(\"WRONG with \", idx)\n",
    "        else:\n",
    "            with open('./succFiles/{}.json'.format(idx), 'w') as succ_f:\n",
    "                json.dump([idx, l['id'], re1, re2], succ_f)\n",
    "        print(f'\\r {n}/{len(d)}', end = '')\n",
    "        sleep(1.5)\n",
    "\n"
   ]
  },
  {
   "cell_type": "markdown",
   "metadata": {},
   "source": [
    "## build dataset\n"
   ]
  },
  {
   "cell_type": "code",
   "execution_count": 48,
   "metadata": {},
   "outputs": [],
   "source": [
    "def read_succ_file(p):\n",
    "    try:\n",
    "        l = json.load(open(p,'r'))\n",
    "        id = l[1]\n",
    "        src = l[2]['trans_result'][0]['src'].replace('#|#|#','\\n')\n",
    "        dst = l[3]['trans_result'][0]['dst'].replace('#|#|#','\\n')\n",
    "    except:\n",
    "        return ERROR\n",
    "    return {'id':id,'src':src,'dst':dst}"
   ]
  },
  {
   "cell_type": "code",
   "execution_count": 49,
   "metadata": {},
   "outputs": [],
   "source": [
    "def get_num(p):\n",
    "    return int(p[0:-5])\n",
    "\n",
    "d = os.listdir(succ_path)\n",
    "d = list(map(get_num,d))\n",
    "d.sort()"
   ]
  },
  {
   "cell_type": "code",
   "execution_count": 50,
   "metadata": {},
   "outputs": [
    {
     "name": "stderr",
     "output_type": "stream",
     "text": [
      "100%|██████████| 98900/98900 [01:34<00:00, 1045.20it/s]\n"
     ]
    }
   ],
   "source": [
    "ERROR = 'ERROR'\n",
    "p = succ_path + '/' + '{}.json'\n",
    "f_path = 'data/train/back_trans.json'\n",
    "with open(f_path,'w') as f:\n",
    "    for i in tqdm(d):\n",
    "        c = read_succ_file(p.format(i))\n",
    "        if c != ERROR:\n",
    "            json.dump(c,f)\n",
    "            f.write('\\n')\n"
   ]
  },
  {
   "cell_type": "markdown",
   "metadata": {},
   "source": [
    "## read the dataset\n"
   ]
  },
  {
   "cell_type": "code",
   "execution_count": 53,
   "metadata": {},
   "outputs": [],
   "source": [
    "d = read_json_to_dataframe(f_path)"
   ]
  },
  {
   "cell_type": "code",
   "execution_count": 54,
   "metadata": {},
   "outputs": [
    {
     "name": "stdout",
     "output_type": "stream",
     "text": [
      "<class 'pandas.core.frame.DataFrame'>\n",
      "RangeIndex: 98027 entries, 0 to 98026\n",
      "Data columns (total 3 columns):\n",
      " #   Column  Non-Null Count  Dtype \n",
      "---  ------  --------------  ----- \n",
      " 0   id      98027 non-null  object\n",
      " 1   src     98027 non-null  object\n",
      " 2   dst     98027 non-null  object\n",
      "dtypes: object(3)\n",
      "memory usage: 2.2+ MB\n"
     ]
    }
   ],
   "source": [
    "d.info()"
   ]
  },
  {
   "cell_type": "code",
   "execution_count": 55,
   "metadata": {},
   "outputs": [
    {
     "data": {
      "text/html": "<div>\n<style scoped>\n    .dataframe tbody tr th:only-of-type {\n        vertical-align: middle;\n    }\n\n    .dataframe tbody tr th {\n        vertical-align: top;\n    }\n\n    .dataframe thead th {\n        text-align: right;\n    }\n</style>\n<table border=\"1\" class=\"dataframe\">\n  <thead>\n    <tr style=\"text-align: right;\">\n      <th></th>\n      <th>id</th>\n      <th>src</th>\n      <th>dst</th>\n    </tr>\n  </thead>\n  <tbody>\n    <tr>\n      <th>0</th>\n      <td>0e7668c6-a98d-11eb-8239-7788095c0b0f</td>\n      <td>篮球——CBA第四阶段：辽宁本钢迎战吉林九台农场银行 \\n新华社照片，诸暨（浙江），2021...</td>\n      <td>篮球-CBA第四阶段：辽宁本溪钢铁对阵吉林九台农场银行新华社照片，诸暨（浙江），2021年3...</td>\n    </tr>\n    <tr>\n      <th>1</th>\n      <td>0e766c68-a98d-11eb-8239-7788095c0b0f</td>\n      <td>这4种家电，有人相见恨晚，有人感觉鸡肋，主要是价格不一样同样一个产品，口碑却两极分化。感觉好...</td>\n      <td>有些人讨厌在这四种家电中相逢太晚，有些人觉得鸡排主要是因为价格不同，但同一产品的声誉是两极分...</td>\n    </tr>\n    <tr>\n      <th>2</th>\n      <td>0e766e70-a98d-11eb-8239-7788095c0b0f</td>\n      <td>PEHCHAOLIN 百雀羚 肌初赋活系列肌初赋活护肤套装聚划算折后单价283元，喜欢的值友...</td>\n      <td>Pehchaolin Baique muscle initial activation系列肌...</td>\n    </tr>\n    <tr>\n      <th>3</th>\n      <td>0e766fd8-a98d-11eb-8239-7788095c0b0f</td>\n      <td>XTEP 特步男鞋运动鞋男夏季透气2020年新品男士休闲鞋潮流老爹鞋男潮鞋特步男鞋运动鞋男夏...</td>\n      <td>XTEP special男鞋运动鞋男式夏季透气2020新款男式休闲鞋潮流dad's shoe...</td>\n    </tr>\n    <tr>\n      <th>4</th>\n      <td>0e7671cc-a98d-11eb-8239-7788095c0b0f</td>\n      <td>冲3连红，NBA预测：马刺VS鹈鹕，众星缺阵，鹈鹕迎来好机会凯尔特人118:112步行者，昨...</td>\n      <td>NBA预测，在明星缺席的情况下，马刺队对鹈鹕队将有一个很好的机会。凯尔特人118:112步行...</td>\n    </tr>\n  </tbody>\n</table>\n</div>",
      "text/plain": "                                     id  ...                                                dst\n0  0e7668c6-a98d-11eb-8239-7788095c0b0f  ...  篮球-CBA第四阶段：辽宁本溪钢铁对阵吉林九台农场银行新华社照片，诸暨（浙江），2021年3...\n1  0e766c68-a98d-11eb-8239-7788095c0b0f  ...  有些人讨厌在这四种家电中相逢太晚，有些人觉得鸡排主要是因为价格不同，但同一产品的声誉是两极分...\n2  0e766e70-a98d-11eb-8239-7788095c0b0f  ...  Pehchaolin Baique muscle initial activation系列肌...\n3  0e766fd8-a98d-11eb-8239-7788095c0b0f  ...  XTEP special男鞋运动鞋男式夏季透气2020新款男式休闲鞋潮流dad's shoe...\n4  0e7671cc-a98d-11eb-8239-7788095c0b0f  ...  NBA预测，在明星缺席的情况下，马刺队对鹈鹕队将有一个很好的机会。凯尔特人118:112步行...\n\n[5 rows x 3 columns]"
     },
     "execution_count": 55,
     "metadata": {},
     "output_type": "execute_result"
    }
   ],
   "source": [
    "d.head()"
   ]
  },
  {
   "cell_type": "code",
   "execution_count": 56,
   "metadata": {},
   "outputs": [],
   "source": [
    "d['l_src'] = d.src.apply(lambda x: len(x))"
   ]
  },
  {
   "cell_type": "code",
   "execution_count": 57,
   "metadata": {},
   "outputs": [],
   "source": [
    "d['l_dst'] = d.dst.apply(lambda x:len(x))"
   ]
  },
  {
   "cell_type": "code",
   "execution_count": 62,
   "metadata": {},
   "outputs": [],
   "source": [
    "d['r'] = d.l_dst/d.l_src"
   ]
  },
  {
   "cell_type": "code",
   "execution_count": 63,
   "metadata": {},
   "outputs": [
    {
     "data": {
      "text/plain": "[<matplotlib.lines.Line2D at 0x7f5365f81580>]"
     },
     "execution_count": 63,
     "metadata": {},
     "output_type": "execute_result"
    },
    {
     "data": {
      "image/png": "[encoded data removed]",
      "text/plain": "<Figure size 1152x288 with 1 Axes>"
     },
     "metadata": {
      "needs_background": "light"
     },
     "output_type": "display_data"
    }
   ],
   "source": [
    "plt.figure(figsize=(16,4))\n",
    "plt.plot(d.r)"
   ]
  },
  {
   "cell_type": "code",
   "execution_count": 68,
   "metadata": {},
   "outputs": [
    {
     "data": {
      "text/plain": "0.90    1.103271\n0.91    1.114858\n0.92    1.128571\n0.93    1.145403\n0.94    1.165414\n0.95    1.192661\n0.96    1.225806\n0.97    1.275874\n0.98    1.351351\n0.99    1.621556\nName: r, dtype: float64"
     },
     "execution_count": 68,
     "metadata": {},
     "output_type": "execute_result"
    }
   ],
   "source": [
    "d.r.quantile([0.9+di*0.01 for i in range(10)])"
   ]
  },
  {
   "cell_type": "code",
   "execution_count": 72,
   "metadata": {},
   "outputs": [
    {
     "name": "stdout",
     "output_type": "stream",
     "text": [
      "<class 'pandas.core.frame.DataFrame'>\n",
      "Int64Index: 93367 entries, 0 to 98026\n",
      "Data columns (total 6 columns):\n",
      " #   Column  Non-Null Count  Dtype  \n",
      "---  ------  --------------  -----  \n",
      " 0   id      93367 non-null  object \n",
      " 1   src     93367 non-null  object \n",
      " 2   dst     93367 non-null  object \n",
      " 3   l_src   93367 non-null  int64  \n",
      " 4   l_dst   93367 non-null  int64  \n",
      " 5   r       93367 non-null  float64\n",
      "dtypes: float64(1), int64(2), object(3)\n",
      "memory usage: 5.0+ MB\n"
     ]
    }
   ],
   "source": [
    "d_filtered = d[d.r < 1.2]\n",
    "d_filtered.info()"
   ]
  },
  {
   "cell_type": "code",
   "execution_count": 75,
   "metadata": {},
   "outputs": [],
   "source": [
    "d_drop = d[d.r > 4]"
   ]
  },
  {
   "cell_type": "code",
   "execution_count": 76,
   "metadata": {},
   "outputs": [
    {
     "name": "stdout",
     "output_type": "stream",
     "text": [
      "<class 'pandas.core.frame.DataFrame'>\n",
      "Int64Index: 101 entries, 554 to 98010\n",
      "Data columns (total 6 columns):\n",
      " #   Column  Non-Null Count  Dtype  \n",
      "---  ------  --------------  -----  \n",
      " 0   id      101 non-null    object \n",
      " 1   src     101 non-null    object \n",
      " 2   dst     101 non-null    object \n",
      " 3   l_src   101 non-null    int64  \n",
      " 4   l_dst   101 non-null    int64  \n",
      " 5   r       101 non-null    float64\n",
      "dtypes: float64(1), int64(2), object(3)\n",
      "memory usage: 5.5+ KB\n"
     ]
    }
   ],
   "source": [
    "d_drop.info()"
   ]
  },
  {
   "cell_type": "code",
   "execution_count": 88,
   "metadata": {},
   "outputs": [
    {
     "name": "stderr",
     "output_type": "stream",
     "text": [
      "/home/yuanhang/anaconda3/lib/python3.8/site-packages/pandas/core/frame.py:3607: SettingWithCopyWarning: \n",
      "A value is trying to be set on a copy of a slice from a DataFrame.\n",
      "Try using .loc[row_indexer,col_indexer] = value instead\n",
      "\n",
      "See the caveats in the documentation: https://pandas.pydata.org/pandas-docs/stable/user_guide/indexing.html#returning-a-view-versus-a-copy\n",
      "  self._set_item(key, value)\n"
     ]
    }
   ],
   "source": [
    "d_drop['num_sent'] = d_drop.src.str.count('\\n')"
   ]
  },
  {
   "cell_type": "code",
   "execution_count": 89,
   "metadata": {},
   "outputs": [
    {
     "data": {
      "text/plain": "<AxesSubplot:xlabel='num_sent', ylabel='Count'>"
     },
     "execution_count": 89,
     "metadata": {},
     "output_type": "execute_result"
    },
    {
     "data": {
      "image/png": "[encoded data removed]",
      "text/plain": "<Figure size 432x288 with 1 Axes>"
     },
     "metadata": {
      "needs_background": "light"
     },
     "output_type": "display_data"
    }
   ],
   "source": [
    "sns.histplot(d_drop.num_sent)"
   ]
  },
  {
   "cell_type": "markdown",
   "metadata": {},
   "source": [
    "## check those reasonable samples"
   ]
  },
  {
   "cell_type": "code",
   "execution_count": 91,
   "metadata": {},
   "outputs": [
    {
     "ename": "TypeError",
     "evalue": "__init__() missing 1 required positional argument: 'bert_tokenizer_version'",
     "output_type": "error",
     "traceback": [
      "\u001b[0;31m---------------------------------------------------------------------------\u001b[0m",
      "\u001b[0;31mTypeError\u001b[0m                                 Traceback (most recent call last)",
      "\u001b[0;32m<ipython-input-91-6da82a12cdf6>\u001b[0m in \u001b[0;36m<module>\u001b[0;34m\u001b[0m\n\u001b[0;32m----> 1\u001b[0;31m \u001b[0mprep\u001b[0m \u001b[0;34m=\u001b[0m \u001b[0mPreprocessor\u001b[0m\u001b[0;34m(\u001b[0m\u001b[0;34m)\u001b[0m\u001b[0;34m\u001b[0m\u001b[0;34m\u001b[0m\u001b[0m\n\u001b[0m",
      "\u001b[0;31mTypeError\u001b[0m: __init__() missing 1 required positional argument: 'bert_tokenizer_version'"
     ]
    }
   ],
   "source": [
    "prep = Preprocessor()"
   ]
  },
  {
   "cell_type": "code",
   "execution_count": null,
   "metadata": {},
   "outputs": [],
   "source": []
  }
 ],
 "metadata": {
  "kernelspec": {
   "display_name": "Python 3",
   "language": "python",
   "name": "python3"
  },
  "language_info": {
   "codemirror_mode": {
    "name": "ipython",
    "version": 3
   },
   "file_extension": ".py",
   "mimetype": "text/x-python",
   "name": "python",
   "nbconvert_exporter": "python",
   "pygments_lexer": "ipython3",
   "version": "3.8.5"
  }
 },
 "nbformat": 4,
 "nbformat_minor": 4
}