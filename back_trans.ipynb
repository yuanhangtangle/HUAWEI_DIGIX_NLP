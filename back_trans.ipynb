{
 "cells": [
  {
   "cell_type": "code",
   "execution_count": 1,
   "metadata": {},
   "outputs": [],
   "source": [
    "import json\n",
    "import os\n",
    "from backTrans.baidu_trans import backTrans as bt\n",
    "import backTrans.baidu_trans\n",
    "import json\n",
    "from time import sleep\n",
    "from tqdm import tqdm\n",
    "from utils.utils import read_json_to_dataframe, write_dataframe_to_json \n",
    "import seaborn as sns\n",
    "import matplotlib.pyplot as plt\n",
    "from utils.preprocessor import Preprocessor\n",
    "import pandas as pd"
   ]
  },
  {
   "cell_type": "code",
   "execution_count": 2,
   "metadata": {},
   "outputs": [],
   "source": [
    "fail_path = 'backTrans/failFiles'\n",
    "succ_path = 'backTrans/succFiles'\n",
    "paths = [fail_path, succ_path]"
   ]
  },
  {
   "cell_type": "code",
   "execution_count": 3,
   "metadata": {},
   "outputs": [
    {
     "name": "stdout",
     "output_type": "stream",
     "text": [
      "backTrans/failFiles 2240\n",
      "backTrans/succFiles 98896\n"
     ]
    }
   ],
   "source": [
    "for p in paths:\n",
    "    d = os.listdir(p)\n",
    "    print(p,len(d))"
   ]
  },
  {
   "cell_type": "code",
   "execution_count": 4,
   "metadata": {},
   "outputs": [
    {
     "data": {
      "text/plain": [
       "101136"
      ]
     },
     "execution_count": 4,
     "metadata": {},
     "output_type": "execute_result"
    }
   ],
   "source": [
    "98896 + 2240"
   ]
  },
  {
   "cell_type": "markdown",
   "metadata": {},
   "source": [
    "## deal with fail Files"
   ]
  },
  {
   "cell_type": "code",
   "execution_count": 4,
   "metadata": {},
   "outputs": [],
   "source": [
    "def get_num(p):\n",
    "    return int(p[0:-5])\n",
    "\n",
    "d = os.listdir(fail_path)\n",
    "d = list(map(get_num,d))\n",
    "d.sort()"
   ]
  },
  {
   "cell_type": "code",
   "execution_count": null,
   "metadata": {},
   "outputs": [],
   "source": [
    "file_path = 'data/train/doc_quality_data_train.json'\n",
    "ERROR = 'ERROR'\n",
    "n = 0\n",
    "with open(file_path, 'r') as f:\n",
    "    for idx, line in enumerate(f):\n",
    "        if idx > 101136:\n",
    "            break\n",
    "        if not idx in d:\n",
    "            continue\n",
    "        n += 1\n",
    "        l = json.loads(line)\n",
    "        q = l['body'].replace('\\n', '#|#|#')\n",
    "        s, re1, re2 = bt(q)\n",
    "        if s == ERROR:\n",
    "            with open('backTrans/temp/{}.json'.format(idx), 'w') as fail_f:\n",
    "                json.dump([idx, l['id'], re1, re2], fail_f)\n",
    "                print(\"WRONG with \", idx)\n",
    "        else:\n",
    "            with open('./succFiles/{}.json'.format(idx), 'w') as succ_f:\n",
    "                json.dump([idx, l['id'], re1, re2], succ_f)\n",
    "        print(f'\\r {n}/{len(d)}', end = '')\n",
    "        sleep(1.5)\n",
    "\n"
   ]
  },
  {
   "cell_type": "markdown",
   "metadata": {},
   "source": [
    "## build dataset\n"
   ]
  },
  {
   "cell_type": "code",
   "execution_count": 48,
   "metadata": {},
   "outputs": [],
   "source": [
    "def read_succ_file(p):\n",
    "    try:\n",
    "        l = json.load(open(p,'r'))\n",
    "        id = l[1]\n",
    "        src = l[2]['trans_result'][0]['src'].replace('#|#|#','\\n')\n",
    "        dst = l[3]['trans_result'][0]['dst'].replace('#|#|#','\\n')\n",
    "    except:\n",
    "        return ERROR\n",
    "    return {'id':id,'src':src,'dst':dst}"
   ]
  },
  {
   "cell_type": "code",
   "execution_count": 49,
   "metadata": {},
   "outputs": [],
   "source": [
    "def get_num(p):\n",
    "    return int(p[0:-5])\n",
    "\n",
    "d = os.listdir(succ_path)\n",
    "d = list(map(get_num,d))\n",
    "d.sort()"
   ]
  },
  {
   "cell_type": "code",
   "execution_count": 50,
   "metadata": {},
   "outputs": [
    {
     "name": "stderr",
     "output_type": "stream",
     "text": [
      "100%|██████████| 98900/98900 [01:34<00:00, 1045.20it/s]\n"
     ]
    }
   ],
   "source": [
    "ERROR = 'ERROR'\n",
    "p = succ_path + '/' + '{}.json'\n",
    "f_path = 'data/train/back_trans.json'\n",
    "with open(f_path,'w') as f:\n",
    "    for i in tqdm(d):\n",
    "        c = read_succ_file(p.format(i))\n",
    "        if c != ERROR:\n",
    "            json.dump(c,f)\n",
    "            f.write('\\n')\n"
   ]
  },
  {
   "cell_type": "markdown",
   "metadata": {},
   "source": [
    "## read the dataset\n"
   ]
  },
  {
   "cell_type": "code",
   "execution_count": 3,
   "metadata": {},
   "outputs": [],
   "source": [
    "f_path = 'data/train/back_trans.json'\n",
    "d = read_json_to_dataframe(f_path)"
   ]
  },
  {
   "cell_type": "code",
   "execution_count": 4,
   "metadata": {},
   "outputs": [
    {
     "name": "stdout",
     "output_type": "stream",
     "text": [
      "<class 'pandas.core.frame.DataFrame'>\n",
      "RangeIndex: 98027 entries, 0 to 98026\n",
      "Data columns (total 3 columns):\n",
      " #   Column  Non-Null Count  Dtype \n",
      "---  ------  --------------  ----- \n",
      " 0   id      98027 non-null  object\n",
      " 1   src     98027 non-null  object\n",
      " 2   dst     98027 non-null  object\n",
      "dtypes: object(3)\n",
      "memory usage: 2.2+ MB\n"
     ]
    }
   ],
   "source": [
    "d.info()"
   ]
  },
  {
   "cell_type": "code",
   "execution_count": 55,
   "metadata": {},
   "outputs": [
    {
     "data": {
      "text/html": "<div>\n<style scoped>\n    .dataframe tbody tr th:only-of-type {\n        vertical-align: middle;\n    }\n\n    .dataframe tbody tr th {\n        vertical-align: top;\n    }\n\n    .dataframe thead th {\n        text-align: right;\n    }\n</style>\n<table border=\"1\" class=\"dataframe\">\n  <thead>\n    <tr style=\"text-align: right;\">\n      <th></th>\n      <th>id</th>\n      <th>src</th>\n      <th>dst</th>\n    </tr>\n  </thead>\n  <tbody>\n    <tr>\n      <th>0</th>\n      <td>0e7668c6-a98d-11eb-8239-7788095c0b0f</td>\n      <td>篮球——CBA第四阶段：辽宁本钢迎战吉林九台农场银行 \\n新华社照片，诸暨（浙江），2021...</td>\n      <td>篮球-CBA第四阶段：辽宁本溪钢铁对阵吉林九台农场银行新华社照片，诸暨（浙江），2021年3...</td>\n    </tr>\n    <tr>\n      <th>1</th>\n      <td>0e766c68-a98d-11eb-8239-7788095c0b0f</td>\n      <td>这4种家电，有人相见恨晚，有人感觉鸡肋，主要是价格不一样同样一个产品，口碑却两极分化。感觉好...</td>\n      <td>有些人讨厌在这四种家电中相逢太晚，有些人觉得鸡排主要是因为价格不同，但同一产品的声誉是两极分...</td>\n    </tr>\n    <tr>\n      <th>2</th>\n      <td>0e766e70-a98d-11eb-8239-7788095c0b0f</td>\n      <td>PEHCHAOLIN 百雀羚 肌初赋活系列肌初赋活护肤套装聚划算折后单价283元，喜欢的值友...</td>\n      <td>Pehchaolin Baique muscle initial activation系列肌...</td>\n    </tr>\n    <tr>\n      <th>3</th>\n      <td>0e766fd8-a98d-11eb-8239-7788095c0b0f</td>\n      <td>XTEP 特步男鞋运动鞋男夏季透气2020年新品男士休闲鞋潮流老爹鞋男潮鞋特步男鞋运动鞋男夏...</td>\n      <td>XTEP special男鞋运动鞋男式夏季透气2020新款男式休闲鞋潮流dad's shoe...</td>\n    </tr>\n    <tr>\n      <th>4</th>\n      <td>0e7671cc-a98d-11eb-8239-7788095c0b0f</td>\n      <td>冲3连红，NBA预测：马刺VS鹈鹕，众星缺阵，鹈鹕迎来好机会凯尔特人118:112步行者，昨...</td>\n      <td>NBA预测，在明星缺席的情况下，马刺队对鹈鹕队将有一个很好的机会。凯尔特人118:112步行...</td>\n    </tr>\n  </tbody>\n</table>\n</div>",
      "text/plain": "                                     id  ...                                                dst\n0  0e7668c6-a98d-11eb-8239-7788095c0b0f  ...  篮球-CBA第四阶段：辽宁本溪钢铁对阵吉林九台农场银行新华社照片，诸暨（浙江），2021年3...\n1  0e766c68-a98d-11eb-8239-7788095c0b0f  ...  有些人讨厌在这四种家电中相逢太晚，有些人觉得鸡排主要是因为价格不同，但同一产品的声誉是两极分...\n2  0e766e70-a98d-11eb-8239-7788095c0b0f  ...  Pehchaolin Baique muscle initial activation系列肌...\n3  0e766fd8-a98d-11eb-8239-7788095c0b0f  ...  XTEP special男鞋运动鞋男式夏季透气2020新款男式休闲鞋潮流dad's shoe...\n4  0e7671cc-a98d-11eb-8239-7788095c0b0f  ...  NBA预测，在明星缺席的情况下，马刺队对鹈鹕队将有一个很好的机会。凯尔特人118:112步行...\n\n[5 rows x 3 columns]"
     },
     "execution_count": 55,
     "metadata": {},
     "output_type": "execute_result"
    }
   ],
   "source": [
    "d.head()"
   ]
  },
  {
   "cell_type": "code",
   "execution_count": 5,
   "metadata": {},
   "outputs": [],
   "source": [
    "d['l_src'] = d.src.apply(lambda x: len(x))"
   ]
  },
  {
   "cell_type": "code",
   "execution_count": 6,
   "metadata": {},
   "outputs": [],
   "source": [
    "d['l_dst'] = d.dst.apply(lambda x:len(x))"
   ]
  },
  {
   "cell_type": "code",
   "execution_count": 7,
   "metadata": {},
   "outputs": [],
   "source": [
    "d['r'] = d.l_dst/d.l_src"
   ]
  },
  {
   "cell_type": "code",
   "execution_count": 9,
   "metadata": {},
   "outputs": [
    {
     "data": {
      "text/plain": "0.90    1.103271\n0.91    1.114858\n0.92    1.128571\n0.93    1.145403\n0.94    1.165414\n0.95    1.192661\n0.96    1.225806\n0.97    1.275874\n0.98    1.351351\n0.99    1.621556\nName: r, dtype: float64"
     },
     "execution_count": 9,
     "metadata": {},
     "output_type": "execute_result"
    }
   ],
   "source": [
    "d.r.quantile([0.9+i*0.01 for i in range(10)])"
   ]
  },
  {
   "cell_type": "code",
   "execution_count": 10,
   "metadata": {},
   "outputs": [
    {
     "data": {
      "text/plain": "0.00    0.125506\n0.01    0.756206\n0.02    0.807860\n0.03    0.833389\n0.04    0.849568\n0.05    0.861769\n0.06    0.871063\n0.07    0.878594\n0.08    0.885043\n0.09    0.890782\nName: r, dtype: float64"
     },
     "execution_count": 10,
     "metadata": {},
     "output_type": "execute_result"
    }
   ],
   "source": [
    "d.r.quantile([0.01*i for i in range(10)])"
   ]
  },
  {
   "cell_type": "code",
   "execution_count": 33,
   "metadata": {},
   "outputs": [
    {
     "name": "stdout",
     "output_type": "stream",
     "text": [
      "<class 'pandas.core.frame.DataFrame'>\n",
      "Int64Index: 90427 entries, 0 to 98026\n",
      "Data columns (total 6 columns):\n",
      " #   Column  Non-Null Count  Dtype  \n",
      "---  ------  --------------  -----  \n",
      " 0   id      90427 non-null  object \n",
      " 1   src     90427 non-null  object \n",
      " 2   dst     90427 non-null  object \n",
      " 3   l_src   90427 non-null  int64  \n",
      " 4   l_dst   90427 non-null  int64  \n",
      " 5   r       90427 non-null  float64\n",
      "dtypes: float64(1), int64(2), object(3)\n",
      "memory usage: 4.8+ MB\n"
     ]
    }
   ],
   "source": [
    "d_filtered = d[(d.r < 1.2) & (d.r > 1/1.2)]\n",
    "d_filtered.info()"
   ]
  },
  {
   "cell_type": "code",
   "execution_count": 12,
   "metadata": {},
   "outputs": [],
   "source": [
    "d_drop = d[d.r > 4]"
   ]
  },
  {
   "cell_type": "code",
   "execution_count": 13,
   "metadata": {},
   "outputs": [
    {
     "name": "stdout",
     "output_type": "stream",
     "text": [
      "<class 'pandas.core.frame.DataFrame'>\n",
      "Int64Index: 101 entries, 554 to 98010\n",
      "Data columns (total 6 columns):\n",
      " #   Column  Non-Null Count  Dtype  \n",
      "---  ------  --------------  -----  \n",
      " 0   id      101 non-null    object \n",
      " 1   src     101 non-null    object \n",
      " 2   dst     101 non-null    object \n",
      " 3   l_src   101 non-null    int64  \n",
      " 4   l_dst   101 non-null    int64  \n",
      " 5   r       101 non-null    float64\n",
      "dtypes: float64(1), int64(2), object(3)\n",
      "memory usage: 5.5+ KB\n"
     ]
    }
   ],
   "source": [
    "d_drop.info()"
   ]
  },
  {
   "cell_type": "code",
   "execution_count": 88,
   "metadata": {},
   "outputs": [
    {
     "name": "stderr",
     "output_type": "stream",
     "text": [
      "/home/yuanhang/anaconda3/lib/python3.8/site-packages/pandas/core/frame.py:3607: SettingWithCopyWarning: \n",
      "A value is trying to be set on a copy of a slice from a DataFrame.\n",
      "Try using .loc[row_indexer,col_indexer] = value instead\n",
      "\n",
      "See the caveats in the documentation: https://pandas.pydata.org/pandas-docs/stable/user_guide/indexing.html#returning-a-view-versus-a-copy\n",
      "  self._set_item(key, value)\n"
     ]
    }
   ],
   "source": [
    "d_drop['num_sent'] = d_drop.src.str.count('\\n')"
   ]
  },
  {
   "cell_type": "code",
   "execution_count": 89,
   "metadata": {},
   "outputs": [
    {
     "data": {
      "text/plain": "<AxesSubplot:xlabel='num_sent', ylabel='Count'>"
     },
     "execution_count": 89,
     "metadata": {},
     "output_type": "execute_result"
    },
    {
     "data": {
      "image/png": "[encoded data removed]",
      "text/plain": "<Figure size 432x288 with 1 Axes>"
     },
     "metadata": {
      "needs_background": "light"
     },
     "output_type": "display_data"
    }
   ],
   "source": [
    "sns.histplot(d_drop.num_sent)"
   ]
  },
  {
   "cell_type": "code",
   "execution_count": 14,
   "metadata": {},
   "outputs": [
    {
     "name": "stdout",
     "output_type": "stream",
     "text": [
      "<class 'pandas.core.frame.DataFrame'>\n",
      "Int64Index: 10 entries, 8534 to 90287\n",
      "Data columns (total 6 columns):\n",
      " #   Column  Non-Null Count  Dtype  \n",
      "---  ------  --------------  -----  \n",
      " 0   id      10 non-null     object \n",
      " 1   src     10 non-null     object \n",
      " 2   dst     10 non-null     object \n",
      " 3   l_src   10 non-null     int64  \n",
      " 4   l_dst   10 non-null     int64  \n",
      " 5   r       10 non-null     float64\n",
      "dtypes: float64(1), int64(2), object(3)\n",
      "memory usage: 560.0+ bytes\n"
     ]
    }
   ],
   "source": [
    "d_drop = d[d.r < 0.3]\n",
    "d_drop.info()"
   ]
  },
  {
   "cell_type": "code",
   "execution_count": 21,
   "metadata": {},
   "outputs": [],
   "source": [
    "def show():\n",
    "    for i in range(10):\n",
    "        print(d_drop.iloc[i,1], d_drop.iloc[i,2], sep='\\n\\n\\n')\n",
    "        yield\n",
    "\n",
    "p = show()"
   ]
  },
  {
   "cell_type": "markdown",
   "metadata": {},
   "source": [
    "## check those reasonable samples"
   ]
  },
  {
   "cell_type": "code",
   "execution_count": 94,
   "metadata": {},
   "outputs": [],
   "source": [
    "prep = Preprocessor('bert-base-chinese')"
   ]
  },
  {
   "cell_type": "code",
   "execution_count": 95,
   "metadata": {},
   "outputs": [
    {
     "name": "stderr",
     "output_type": "stream",
     "text": [
      "/home/yuanhang/anaconda3/lib/python3.8/site-packages/pandas/core/frame.py:3607: SettingWithCopyWarning: \n",
      "A value is trying to be set on a copy of a slice from a DataFrame.\n",
      "Try using .loc[row_indexer,col_indexer] = value instead\n",
      "\n",
      "See the caveats in the documentation: https://pandas.pydata.org/pandas-docs/stable/user_guide/indexing.html#returning-a-view-versus-a-copy\n",
      "  self._set_item(key, value)\n"
     ]
    }
   ],
   "source": [
    "d_filtered['num_src_sent'] = d_filtered.src.apply(lambda x: len(prep.cut_doc(x)))"
   ]
  },
  {
   "cell_type": "code",
   "execution_count": 96,
   "metadata": {},
   "outputs": [
    {
     "name": "stderr",
     "output_type": "stream",
     "text": [
      "/home/yuanhang/anaconda3/lib/python3.8/site-packages/pandas/core/frame.py:3607: SettingWithCopyWarning: \n",
      "A value is trying to be set on a copy of a slice from a DataFrame.\n",
      "Try using .loc[row_indexer,col_indexer] = value instead\n",
      "\n",
      "See the caveats in the documentation: https://pandas.pydata.org/pandas-docs/stable/user_guide/indexing.html#returning-a-view-versus-a-copy\n",
      "  self._set_item(key, value)\n"
     ]
    }
   ],
   "source": [
    "d_filtered['num_sdst_sent'] = d_filtered.dst.apply(lambda x: len(prep.cut_doc(x)))"
   ]
  },
  {
   "cell_type": "code",
   "execution_count": 102,
   "metadata": {},
   "outputs": [
    {
     "name": "stderr",
     "output_type": "stream",
     "text": [
      "/home/yuanhang/anaconda3/lib/python3.8/site-packages/pandas/core/frame.py:3607: SettingWithCopyWarning: \n",
      "A value is trying to be set on a copy of a slice from a DataFrame.\n",
      "Try using .loc[row_indexer,col_indexer] = value instead\n",
      "\n",
      "See the caveats in the documentation: https://pandas.pydata.org/pandas-docs/stable/user_guide/indexing.html#returning-a-view-versus-a-copy\n",
      "  self._set_item(key, value)\n"
     ]
    }
   ],
   "source": [
    "d_filtered['r_sent'] = d_filtered.num_sdst_sent/d_filtered.num_src_sent"
   ]
  },
  {
   "cell_type": "code",
   "execution_count": 103,
   "metadata": {},
   "outputs": [
    {
     "data": {
      "text/plain": "0.0    0.018182\n0.1    0.687500\n0.2    0.888889\n0.3    1.000000\n0.4    1.125000\n0.5    1.243243\n0.6    1.372093\n0.7    1.538462\n0.8    1.800000\n0.9    2.285714\nName: r_sent, dtype: float64"
     },
     "execution_count": 103,
     "metadata": {},
     "output_type": "execute_result"
    }
   ],
   "source": [
    "d_filtered.r_sent.quantile([0.1*i for i in range(10)])"
   ]
  },
  {
   "cell_type": "markdown",
   "metadata": {},
   "source": [
    "## check those with high r_sent\n"
   ]
  },
  {
   "cell_type": "code",
   "execution_count": 104,
   "metadata": {},
   "outputs": [],
   "source": [
    "d_sent = d_filtered[d_filtered.r_sent > 2]"
   ]
  },
  {
   "cell_type": "code",
   "execution_count": 110,
   "metadata": {},
   "outputs": [
    {
     "name": "stdout",
     "output_type": "stream",
     "text": [
      "五本近期完结的精品小说，口碑极好爽点十足，总字数超过千万大家好，我是冬日暖阳，今天给大家带来的是，五本近期完结的精品小说，口碑极好爽点十足，总字数超千万！ \n",
      " \n",
      "《天降我才必有用》作者：石章鱼 \n",
      "总字数：351万字 \n",
      "石章鱼真的是阐述了“柳暗花明又一村”是什么感觉，当年在被封得一书不剩的情况下，发布了《医统天下》，结果这本在他还没有完全准备，也并不是很想写的书，不仅火了，还顺利卖出了版权，据说电视剧也早已经杀青。 \n",
      "这本《天降我才必有用》是他精心准备，并且想极力表现自己的书，却没想到，根本没有达到自己预期的成绩。我觉得吧，有时候就是这样，你用心去做一件事情的时候，你就会觉得束手束脚，当你啥都不在乎，凭着自己内心走的时候，一切就变得顺畅了很多。 \n",
      "新书《骨舟记》也有十五万字了，书荒的朋友 也可以去看看，这是一本充满悬疑的仙侠类小说，喜欢这类型的就别错过了。 \n",
      " \n",
      "《最强孝心系统》 \n",
      "总字数：71万字 \n",
      "本书的作者名字叫做打死不鸽，却没想到本书并没有按照作者的名字来，在七十一万字的时候就被迫完结，就是可惜了一本好书。本书的设定非常有意思，就是题材选错了，因为题材的问题被屏蔽过一次，结果刚出来就匆匆完结了。 \n",
      "遗憾肯定是有的，就是希望作者能够收拾好自己的心情，重头再来。 \n",
      "《沧元图》作者：我吃西红柿 \n",
      "总字数：192万字 \n",
      "番茄就是一个闷声发大财的一个作者，别看他的这本新书，没有经常在各大榜单的前面，但也是在前十徘徊，这样一个 月的收入也是不容小觑的哦，更别说，他老书的收入，尤其是《吞噬星空》，这本小说因为动漫的播出，屡屡居于榜单前面让众多作者羡慕不已。 \n",
      " \n",
      "《鬼神竟是我自己》作者：剪水II \n",
      "每次看到这个书名的时候，我都会笑笑，实在是有趣极了，只可惜这本书在五十万字的时候就选择挥刀自宫了。原本是等着养肥的，结果没想到羊儿提前夭折了。据作者自己说，是他本身抑郁得太厉害，原本结局都有了，实在是写不下去了，才选择完结的。不过，此书还是拿到了精品的，前期的质量还是不错，喜欢这类搞笑风的还是可以试试。 \n",
      "《证道从遮天开始》作者：鬼灯青月 \n",
      "总字数：343万字 \n",
      "这是一本从穿到遮天开始的无限流小说，成绩是非常不错，本书让作者 一书到了五级，看到这里是不是觉得非常惊讶，这可是一个新人作者，能够有如此的成绩着实厉害，而他书中的剧情也是值得让人去品读。 \n",
      " \n",
      "好了，这次推荐就到此结束了，以上几本你们都看过吗，还没看过的朋友可以试试哦！\n",
      "\n",
      "最近完成的五部精品小说口碑良好，总字数超过千万。你好，我是冬天温暖的太阳。我今天带给大家的是，最近完成的五部精品小说都很有名气，总字数超过一千万天塌下来的时候，我会有用的。作者：八达通| | | | | | | | | | | | | | | | | | | | | | |八达通真切地诠释了“另一个柳暗花明村”的感觉。没有书了，他出版了《医学主宰世界》。因此，他没有准备好的、不想写的那本书不仅广受欢迎，而且顺利出售了版权，据说电视剧早就被杀了。| | | | | | |#| | |这本书《天亮时我一定有用》是他精心准备的，想展示自己，但他没有想到他根本没有达到预期的结果。我想有时候是这样的。当你用心去做某事时，你会感到被束缚。当你什么都不在乎，用心走的时候，一切都会变得更加顺利。\n",
      "|#新书《骨船的故事》也有15万字。缺书的朋友也可以去看看。这是一部充满悬念的仙霞小说。如果你喜欢这种类型，就不要错过它最强大的孝道体系这本书的作者叫《不杀鸽子》，但我没想到这本书被迫以70万字结尾，真是可惜。这本书的背景很有意思，就是主题错了，因为主题的问题曾经被屏蔽过一次，一出来就匆匆结束了，一定有些遗憾。我只是希望作者能整理一下心情，重新开始。######################################。尽管他的新书并不总是排在主要排行榜的首位，但它也在前十位徘徊。这样一个月的收入是不可低估的，更不用说他的旧书收入了，尤其是《吞下星空》，因为动画的播放，这部小说往往排在榜首，这是许多作家羡慕的《鬼神是我自己》作者：《剪水II》每当我看到这本书的书名，我都会微笑。真的很有趣。遗憾的是，这本书在50万字的篇幅里却选择了在皇宫里挥舞一把刀。原本等待育肥，但没想到，羊死得早。根据作者本人的说法，他非常沮丧，以至于选择了结束，因为他无法写下最初的结局。然而，这本书仍然得到了高质量的产品，而且早期的质量仍然很好。喜欢这种搞笑风格的人还是可以试试《说教从遮天开始》作者：鬼灯清月总字数：343万字这是一部从穿到遮天的源源不断的小说，效果非常好。这本书使作者达到了5级。你在这里看到这本书很惊讶吗？这是一位新作家。他可以取得如此巨大的成就，他书中的情节也值得一读嗯，这个建议已经结束了。你看过上面所有的书吗？没见过的朋友可以试试！\n"
     ]
    }
   ],
   "source": [
    "print(d_sent.iloc[132,1],d_sent.iloc[132,2], sep='\\n\\n')"
   ]
  },
  {
   "cell_type": "code",
   "execution_count": 35,
   "metadata": {},
   "outputs": [],
   "source": [
    "def to_dict(id,src,dst):\n",
    "    return {\n",
    "        'id':id,\n",
    "        'src':src,\n",
    "        'dst':dst\n",
    "    }\n",
    "    \n",
    "with open(f_path,'w') as f:\n",
    "    n = d_filtered.shape[0]\n",
    "    for i in range(n):\n",
    "        json.dump(\n",
    "            to_dict(d_filtered.iloc[i,0], d_filtered.iloc[i,1], d_filtered.iloc[i,2]),\n",
    "            f\n",
    "        )\n",
    "        f.write('\\n')\n"
   ]
  },
  {
   "cell_type": "markdown",
   "metadata": {},
   "source": [
    "## check final dataset\n"
   ]
  },
  {
   "cell_type": "code",
   "execution_count": 36,
   "metadata": {},
   "outputs": [
    {
     "name": "stdout",
     "output_type": "stream",
     "text": [
      "<class 'pandas.core.frame.DataFrame'>\n",
      "RangeIndex: 90427 entries, 0 to 90426\n",
      "Data columns (total 3 columns):\n",
      " #   Column  Non-Null Count  Dtype \n",
      "---  ------  --------------  ----- \n",
      " 0   id      90427 non-null  object\n",
      " 1   src     90427 non-null  object\n",
      " 2   dst     90427 non-null  object\n",
      "dtypes: object(3)\n",
      "memory usage: 2.1+ MB\n"
     ]
    }
   ],
   "source": [
    "d = read_json_to_dataframe(f_path)\n",
    "d.info()"
   ]
  },
  {
   "cell_type": "markdown",
   "metadata": {},
   "source": [
    "## match WC\n"
   ]
  },
  {
   "cell_type": "code",
   "execution_count": 39,
   "metadata": {},
   "outputs": [],
   "source": [
    "wc_path = 'data/train/train_wc.csv'\n",
    "wc = pd.read_csv(wc_path)"
   ]
  },
  {
   "cell_type": "code",
   "execution_count": 40,
   "metadata": {},
   "outputs": [
    {
     "name": "stdout",
     "output_type": "stream",
     "text": [
      "<class 'pandas.core.frame.DataFrame'>\n",
      "Int64Index: 90427 entries, 0 to 553453\n",
      "Data columns (total 29 columns):\n",
      " #   Column               Non-Null Count  Dtype  \n",
      "---  ------               --------------  -----  \n",
      " 0   id                   90427 non-null  object \n",
      " 1   title_num_char       90427 non-null  int64  \n",
      " 2   title_num_word       90427 non-null  int64  \n",
      " 3   title_num_keyword    90427 non-null  int64  \n",
      " 4   num_char             90427 non-null  int64  \n",
      " 5   num_char_del_stop    90427 non-null  int64  \n",
      " 6   num_uni_char         90427 non-null  int64  \n",
      " 7   num_punc             90427 non-null  int64  \n",
      " 8   num_word             90427 non-null  int64  \n",
      " 9   num_uni_word         90427 non-null  int64  \n",
      " 10  num_noun             90427 non-null  int64  \n",
      " 11  num_adj              90427 non-null  int64  \n",
      " 12  num_verb             90427 non-null  int64  \n",
      " 13  num_adv              90427 non-null  int64  \n",
      " 14  num_conj             90427 non-null  int64  \n",
      " 15  num_numeral          90427 non-null  int64  \n",
      " 16  num_para             90427 non-null  int64  \n",
      " 17  title_ratio_keyword  90427 non-null  float64\n",
      " 18  ratio_uni_char       90427 non-null  float64\n",
      " 19  ratio_uni_word       90427 non-null  float64\n",
      " 20  ratio_punc           90427 non-null  float64\n",
      " 21  ratio_noun           90427 non-null  float64\n",
      " 22  ratio_verb           90427 non-null  float64\n",
      " 23  ratio_adj            90427 non-null  float64\n",
      " 24  ratio_adv            90427 non-null  float64\n",
      " 25  ratio_conj           90427 non-null  float64\n",
      " 26  ratio_numeral        90427 non-null  float64\n",
      " 27  ratio_char_para      90427 non-null  float64\n",
      " 28  ratio_word_para      90427 non-null  float64\n",
      "dtypes: float64(12), int64(16), object(1)\n",
      "memory usage: 20.7+ MB\n"
     ]
    }
   ],
   "source": [
    "wc_filtered = wc[wc.id.isin(d.id)]\n",
    "wc_filtered.info()"
   ]
  },
  {
   "cell_type": "code",
   "execution_count": 43,
   "metadata": {},
   "outputs": [],
   "source": [
    "back_trans_wc_path = 'data/train/back_trans_wc.csv'\n",
    "wc_filtered.to_csv(back_trans_wc_path, index = False, header = True)"
   ]
  },
  {
   "cell_type": "markdown",
   "metadata": {},
   "source": [
    "## check wc\n"
   ]
  },
  {
   "cell_type": "code",
   "execution_count": 44,
   "metadata": {},
   "outputs": [
    {
     "name": "stdout",
     "output_type": "stream",
     "text": [
      "<class 'pandas.core.frame.DataFrame'>\n",
      "RangeIndex: 90427 entries, 0 to 90426\n",
      "Data columns (total 29 columns):\n",
      " #   Column               Non-Null Count  Dtype  \n",
      "---  ------               --------------  -----  \n",
      " 0   id                   90427 non-null  object \n",
      " 1   title_num_char       90427 non-null  int64  \n",
      " 2   title_num_word       90427 non-null  int64  \n",
      " 3   title_num_keyword    90427 non-null  int64  \n",
      " 4   num_char             90427 non-null  int64  \n",
      " 5   num_char_del_stop    90427 non-null  int64  \n",
      " 6   num_uni_char         90427 non-null  int64  \n",
      " 7   num_punc             90427 non-null  int64  \n",
      " 8   num_word             90427 non-null  int64  \n",
      " 9   num_uni_word         90427 non-null  int64  \n",
      " 10  num_noun             90427 non-null  int64  \n",
      " 11  num_adj              90427 non-null  int64  \n",
      " 12  num_verb             90427 non-null  int64  \n",
      " 13  num_adv              90427 non-null  int64  \n",
      " 14  num_conj             90427 non-null  int64  \n",
      " 15  num_numeral          90427 non-null  int64  \n",
      " 16  num_para             90427 non-null  int64  \n",
      " 17  title_ratio_keyword  90427 non-null  float64\n",
      " 18  ratio_uni_char       90427 non-null  float64\n",
      " 19  ratio_uni_word       90427 non-null  float64\n",
      " 20  ratio_punc           90427 non-null  float64\n",
      " 21  ratio_noun           90427 non-null  float64\n",
      " 22  ratio_verb           90427 non-null  float64\n",
      " 23  ratio_adj            90427 non-null  float64\n",
      " 24  ratio_adv            90427 non-null  float64\n",
      " 25  ratio_conj           90427 non-null  float64\n",
      " 26  ratio_numeral        90427 non-null  float64\n",
      " 27  ratio_char_para      90427 non-null  float64\n",
      " 28  ratio_word_para      90427 non-null  float64\n",
      "dtypes: float64(12), int64(16), object(1)\n",
      "memory usage: 20.0+ MB\n"
     ]
    }
   ],
   "source": [
    "wc = pd.read_csv(back_trans_wc_path)\n",
    "wc.info()"
   ]
  },
  {
   "cell_type": "markdown",
   "metadata": {},
   "source": [
    "## split debug set\n"
   ]
  },
  {
   "cell_type": "code",
   "execution_count": 45,
   "metadata": {},
   "outputs": [
    {
     "name": "stdout",
     "output_type": "stream",
     "text": [
      "<class 'pandas.core.frame.DataFrame'>\n",
      "RangeIndex: 256 entries, 0 to 255\n",
      "Data columns (total 33 columns):\n",
      " #   Column               Non-Null Count  Dtype  \n",
      "---  ------               --------------  -----  \n",
      " 0   id                   256 non-null    object \n",
      " 1   title                256 non-null    object \n",
      " 2   body                 256 non-null    object \n",
      " 3   category             256 non-null    float64\n",
      " 4   title_num_char       256 non-null    float64\n",
      " 5   title_num_word       256 non-null    float64\n",
      " 6   title_num_keyword    256 non-null    float64\n",
      " 7   num_char             256 non-null    float64\n",
      " 8   num_char_del_stop    256 non-null    float64\n",
      " 9   num_uni_char         256 non-null    float64\n",
      " 10  num_punc             256 non-null    float64\n",
      " 11  num_word             256 non-null    float64\n",
      " 12  num_uni_word         256 non-null    float64\n",
      " 13  num_noun             256 non-null    float64\n",
      " 14  num_adj              256 non-null    float64\n",
      " 15  num_verb             256 non-null    float64\n",
      " 16  num_adv              256 non-null    float64\n",
      " 17  num_conj             256 non-null    float64\n",
      " 18  num_numeral          256 non-null    float64\n",
      " 19  num_para             256 non-null    float64\n",
      " 20  title_ratio_keyword  256 non-null    float64\n",
      " 21  ratio_uni_char       256 non-null    float64\n",
      " 22  ratio_uni_word       256 non-null    float64\n",
      " 23  ratio_punc           256 non-null    float64\n",
      " 24  ratio_noun           256 non-null    float64\n",
      " 25  ratio_verb           256 non-null    float64\n",
      " 26  ratio_adj            256 non-null    float64\n",
      " 27  ratio_adv            256 non-null    float64\n",
      " 28  ratio_conj           256 non-null    float64\n",
      " 29  ratio_numeral        256 non-null    float64\n",
      " 30  ratio_char_para      256 non-null    float64\n",
      " 31  ratio_word_para      256 non-null    float64\n",
      " 32  doctype              256 non-null    object \n",
      "dtypes: float64(29), object(4)\n",
      "memory usage: 66.1+ KB\n"
     ]
    }
   ],
   "source": [
    "debug_path = 'data/debug/debug_set.csv'\n",
    "de = pd.read_csv(debug_path)\n",
    "de.info()"
   ]
  },
  {
   "cell_type": "code",
   "execution_count": 49,
   "metadata": {},
   "outputs": [],
   "source": [
    "json_path = 'data/debug/corpus.json' \n",
    "json_names = ['id','title','body','category','doctype']\n",
    "def to_dict(s):\n",
    "    return {\n",
    "        'id':s.id,\n",
    "        'title':s.title,\n",
    "        'body':s.body,\n",
    "        'category':s.category,\n",
    "        'doctype':s.doctype\n",
    "    }\n",
    "    \n",
    "with open(json_path,'w') as f:\n",
    "    n = de.shape[0]\n",
    "    for i in range(n):\n",
    "        json.dump(to_dict(de.iloc[i]), f)\n",
    "        f.write('\\n')"
   ]
  },
  {
   "cell_type": "code",
   "execution_count": 50,
   "metadata": {},
   "outputs": [
    {
     "name": "stdout",
     "output_type": "stream",
     "text": [
      "<class 'pandas.core.frame.DataFrame'>\n",
      "RangeIndex: 256 entries, 0 to 255\n",
      "Data columns (total 5 columns):\n",
      " #   Column    Non-Null Count  Dtype  \n",
      "---  ------    --------------  -----  \n",
      " 0   id        256 non-null    object \n",
      " 1   title     256 non-null    object \n",
      " 2   body      256 non-null    object \n",
      " 3   category  256 non-null    float64\n",
      " 4   doctype   256 non-null    object \n",
      "dtypes: float64(1), object(4)\n",
      "memory usage: 10.1+ KB\n"
     ]
    }
   ],
   "source": [
    "json_path = 'data/debug/corpus.json' \n",
    "d = read_json_to_dataframe(json_path)\n",
    "d.info()"
   ]
  },
  {
   "cell_type": "code",
   "execution_count": 51,
   "metadata": {},
   "outputs": [
    {
     "name": "stdout",
     "output_type": "stream",
     "text": [
      "<class 'pandas.core.frame.DataFrame'>\n",
      "RangeIndex: 256 entries, 0 to 255\n",
      "Data columns (total 29 columns):\n",
      " #   Column               Non-Null Count  Dtype  \n",
      "---  ------               --------------  -----  \n",
      " 0   id                   256 non-null    object \n",
      " 1   title_num_char       256 non-null    float64\n",
      " 2   title_num_word       256 non-null    float64\n",
      " 3   title_num_keyword    256 non-null    float64\n",
      " 4   num_char             256 non-null    float64\n",
      " 5   num_char_del_stop    256 non-null    float64\n",
      " 6   num_uni_char         256 non-null    float64\n",
      " 7   num_punc             256 non-null    float64\n",
      " 8   num_word             256 non-null    float64\n",
      " 9   num_uni_word         256 non-null    float64\n",
      " 10  num_noun             256 non-null    float64\n",
      " 11  num_adj              256 non-null    float64\n",
      " 12  num_verb             256 non-null    float64\n",
      " 13  num_adv              256 non-null    float64\n",
      " 14  num_conj             256 non-null    float64\n",
      " 15  num_numeral          256 non-null    float64\n",
      " 16  num_para             256 non-null    float64\n",
      " 17  title_ratio_keyword  256 non-null    float64\n",
      " 18  ratio_uni_char       256 non-null    float64\n",
      " 19  ratio_uni_word       256 non-null    float64\n",
      " 20  ratio_punc           256 non-null    float64\n",
      " 21  ratio_noun           256 non-null    float64\n",
      " 22  ratio_verb           256 non-null    float64\n",
      " 23  ratio_adj            256 non-null    float64\n",
      " 24  ratio_adv            256 non-null    float64\n",
      " 25  ratio_conj           256 non-null    float64\n",
      " 26  ratio_numeral        256 non-null    float64\n",
      " 27  ratio_char_para      256 non-null    float64\n",
      " 28  ratio_word_para      256 non-null    float64\n",
      "dtypes: float64(28), object(1)\n",
      "memory usage: 58.1+ KB\n"
     ]
    }
   ],
   "source": [
    "de_wc = de.iloc[:,[0]+[i for i in range(4,32)]]\n",
    "de_wc.info()"
   ]
  },
  {
   "cell_type": "code",
   "execution_count": 52,
   "metadata": {},
   "outputs": [],
   "source": [
    "wc_path = 'data/debug/wc.csv'\n",
    "de_wc.to_csv(wc_path, index=False,header=True)"
   ]
  },
  {
   "cell_type": "markdown",
   "metadata": {},
   "source": [
    "## filter labeled samples"
   ]
  },
  {
   "cell_type": "code",
   "execution_count": 2,
   "metadata": {},
   "outputs": [
    {
     "name": "stderr",
     "output_type": "stream",
     "text": [
      "576454it [00:22, 25964.63it/s]\n"
     ]
    },
    {
     "name": "stdout",
     "output_type": "stream",
     "text": [
      "<class 'pandas.core.frame.DataFrame'>\n",
      "RangeIndex: 576454 entries, 0 to 576453\n",
      "Data columns (total 5 columns):\n",
      " #   Column    Non-Null Count   Dtype \n",
      "---  ------    --------------   ----- \n",
      " 0   id        576454 non-null  object\n",
      " 1   title     576454 non-null  object\n",
      " 2   body      576454 non-null  object\n",
      " 3   category  576454 non-null  int64 \n",
      " 4   doctype   576454 non-null  object\n",
      "dtypes: int64(1), object(4)\n",
      "memory usage: 22.0+ MB\n"
     ]
    }
   ],
   "source": [
    "p = 'data/doc_data_quality_train.json'\n",
    "df = read_json_to_dataframe(p)\n",
    "df.info()"
   ]
  },
  {
   "cell_type": "code",
   "execution_count": 3,
   "metadata": {},
   "outputs": [
    {
     "name": "stdout",
     "output_type": "stream",
     "text": [
      "<class 'pandas.core.frame.DataFrame'>\n",
      "Int64Index: 76454 entries, 500000 to 576453\n",
      "Data columns (total 5 columns):\n",
      " #   Column    Non-Null Count  Dtype \n",
      "---  ------    --------------  ----- \n",
      " 0   id        76454 non-null  object\n",
      " 1   title     76454 non-null  object\n",
      " 2   body      76454 non-null  object\n",
      " 3   category  76454 non-null  int64 \n",
      " 4   doctype   76454 non-null  object\n",
      "dtypes: int64(1), object(4)\n",
      "memory usage: 3.5+ MB\n"
     ]
    }
   ],
   "source": [
    "df = df[df.doctype != '']\n",
    "df.info()"
   ]
  },
  {
   "cell_type": "code",
   "execution_count": 4,
   "metadata": {},
   "outputs": [
    {
     "name": "stderr",
     "output_type": "stream",
     "text": [
      " 96%|█████████▋| 73734/76454 [00:35<00:01, 2553.88it/s]"
     ]
    }
   ],
   "source": [
    "write_dataframe_to_json(df, p)"
   ]
  },
  {
   "cell_type": "code",
   "execution_count": null,
   "metadata": {},
   "outputs": [],
   "source": [
    "p = 'data/train/train_corpus.json'\n",
    "df = read_json_to_dataframe(p)\n",
    "df.info()"
   ]
  }
 ],
 "metadata": {
  "kernelspec": {
   "display_name": "Python 3",
   "language": "python",
   "name": "python3"
  },
  "language_info": {
   "codemirror_mode": {
    "name": "ipython",
    "version": 3
   },
   "file_extension": ".py",
   "mimetype": "text/x-python",
   "name": "python",
   "nbconvert_exporter": "python",
   "pygments_lexer": "ipython3",
   "version": "3.8.5"
  }
 },
 "nbformat": 4,
 "nbformat_minor": 4
}