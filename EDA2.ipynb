{
 "cells": [
  {
   "cell_type": "code",
   "execution_count": 2,
   "metadata": {},
   "outputs": [],
   "source": [
    "import pandas as pd\n",
    "import json\n",
    "import os\n",
    "#from utils.utils import read_json_to_dataframe"
   ]
  },
  {
   "cell_type": "markdown",
   "metadata": {},
   "source": [
    "## check NAs"
   ]
  },
  {
   "cell_type": "code",
   "execution_count": 2,
   "metadata": {},
   "outputs": [],
   "source": [
    "features_path = './data/train_wc.csv'"
   ]
  },
  {
   "cell_type": "code",
   "execution_count": 4,
   "metadata": {},
   "outputs": [],
   "source": [
    "tf = pd.read_csv(features_path)"
   ]
  },
  {
   "cell_type": "code",
   "execution_count": 5,
   "metadata": {},
   "outputs": [
    {
     "data": {
      "text/plain": [
       "576454"
      ]
     },
     "execution_count": 5,
     "metadata": {},
     "output_type": "execute_result"
    }
   ],
   "source": [
    "len(tf.id.unique())"
   ]
  },
  {
   "cell_type": "markdown",
   "metadata": {},
   "source": [
    "training features seem to be alright. What good news!"
   ]
  },
  {
   "cell_type": "code",
   "execution_count": 6,
   "metadata": {},
   "outputs": [
    {
     "name": "stdout",
     "output_type": "stream",
     "text": [
      "<class 'pandas.core.frame.DataFrame'>\n",
      "RangeIndex: 576454 entries, 0 to 576453\n",
      "Data columns (total 5 columns):\n",
      " #   Column    Non-Null Count   Dtype \n",
      "---  ------    --------------   ----- \n",
      " 0   id        576454 non-null  object\n",
      " 1   title     576454 non-null  object\n",
      " 2   body      576454 non-null  object\n",
      " 3   category  576454 non-null  int64 \n",
      " 4   doctype   576454 non-null  object\n",
      "dtypes: int64(1), object(4)\n",
      "memory usage: 22.0+ MB\n"
     ]
    }
   ],
   "source": [
    "training_json = './data/doc_quality_data_train.json'\n",
    "columns = ['id','title','body','category','doctype']\n",
    "ds = read_json_to_dataframe(training_json, columns)\n",
    "ds.info()"
   ]
  },
  {
   "cell_type": "code",
   "execution_count": 7,
   "metadata": {},
   "outputs": [],
   "source": [
    "ds.body = ds.title + '。' + ds.body.str.replace(',','，')"
   ]
  },
  {
   "cell_type": "code",
   "execution_count": 12,
   "metadata": {},
   "outputs": [
    {
     "name": "stdout",
     "output_type": "stream",
     "text": [
      "<class 'pandas.core.frame.DataFrame'>\n",
      "RangeIndex: 576454 entries, 0 to 576453\n",
      "Data columns (total 2 columns):\n",
      " #   Column  Non-Null Count   Dtype \n",
      "---  ------  --------------   ----- \n",
      " 0   id      576454 non-null  object\n",
      " 1   body    576454 non-null  object\n",
      "dtypes: object(2)\n",
      "memory usage: 8.8+ MB\n"
     ]
    }
   ],
   "source": [
    "ds = ds[['id','body']]\n",
    "ds.info()"
   ]
  },
  {
   "cell_type": "code",
   "execution_count": 13,
   "metadata": {},
   "outputs": [],
   "source": [
    "ts = pd.merge(ds, tf, on = ['id'], how = 'inner')"
   ]
  },
  {
   "cell_type": "code",
   "execution_count": 14,
   "metadata": {},
   "outputs": [
    {
     "name": "stdout",
     "output_type": "stream",
     "text": [
      "<class 'pandas.core.frame.DataFrame'>\n",
      "Int64Index: 576454 entries, 0 to 576453\n",
      "Data columns (total 33 columns):\n",
      " #   Column               Non-Null Count   Dtype  \n",
      "---  ------               --------------   -----  \n",
      " 0   id                   576454 non-null  object \n",
      " 1   body                 576454 non-null  object \n",
      " 2   title                576454 non-null  object \n",
      " 3   category             576454 non-null  int64  \n",
      " 4   title_num_char       576454 non-null  int64  \n",
      " 5   title_num_word       576454 non-null  int64  \n",
      " 6   title_num_keyword    576454 non-null  int64  \n",
      " 7   num_char             576454 non-null  int64  \n",
      " 8   num_char_del_stop    576454 non-null  int64  \n",
      " 9   num_uni_char         576454 non-null  int64  \n",
      " 10  num_punc             576454 non-null  int64  \n",
      " 11  num_word             576454 non-null  int64  \n",
      " 12  num_uni_word         576454 non-null  int64  \n",
      " 13  num_noun             576454 non-null  int64  \n",
      " 14  num_adj              576454 non-null  int64  \n",
      " 15  num_verb             576454 non-null  int64  \n",
      " 16  num_adv              576454 non-null  int64  \n",
      " 17  num_conj             576454 non-null  int64  \n",
      " 18  num_numeral          576454 non-null  int64  \n",
      " 19  num_para             576454 non-null  int64  \n",
      " 20  title_ratio_keyword  576454 non-null  float64\n",
      " 21  ratio_uni_char       576454 non-null  float64\n",
      " 22  ratio_uni_word       576454 non-null  float64\n",
      " 23  ratio_punc           576454 non-null  float64\n",
      " 24  ratio_noun           576454 non-null  float64\n",
      " 25  ratio_verb           576454 non-null  float64\n",
      " 26  ratio_adj            576454 non-null  float64\n",
      " 27  ratio_adv            576454 non-null  float64\n",
      " 28  ratio_conj           576454 non-null  float64\n",
      " 29  ratio_numeral        576454 non-null  float64\n",
      " 30  ratio_char_para      576454 non-null  float64\n",
      " 31  ratio_word_para      576454 non-null  float64\n",
      " 32  doctype              76454 non-null   object \n",
      "dtypes: float64(12), int64(17), object(4)\n",
      "memory usage: 149.5+ MB\n"
     ]
    }
   ],
   "source": [
    "ts.info()"
   ]
  },
  {
   "cell_type": "code",
   "execution_count": 15,
   "metadata": {},
   "outputs": [
    {
     "data": {
      "text/plain": [
       "Index(['id', 'body', 'title', 'category', 'title_num_char', 'title_num_word',\n",
       "       'title_num_keyword', 'num_char', 'num_char_del_stop', 'num_uni_char',\n",
       "       'num_punc', 'num_word', 'num_uni_word', 'num_noun', 'num_adj',\n",
       "       'num_verb', 'num_adv', 'num_conj', 'num_numeral', 'num_para',\n",
       "       'title_ratio_keyword', 'ratio_uni_char', 'ratio_uni_word', 'ratio_punc',\n",
       "       'ratio_noun', 'ratio_verb', 'ratio_adj', 'ratio_adv', 'ratio_conj',\n",
       "       'ratio_numeral', 'ratio_char_para', 'ratio_word_para', 'doctype'],\n",
       "      dtype='object')"
      ]
     },
     "execution_count": 15,
     "metadata": {},
     "output_type": "execute_result"
    }
   ],
   "source": [
    "ts.columns"
   ]
  },
  {
   "cell_type": "code",
   "execution_count": 16,
   "metadata": {},
   "outputs": [],
   "source": [
    "cols = ['id', 'title', 'body',  'category', 'title_num_char', 'title_num_word',\n",
    "       'title_num_keyword', 'num_char', 'num_char_del_stop', 'num_uni_char',\n",
    "       'num_punc', 'num_word', 'num_uni_word', 'num_noun', 'num_adj',\n",
    "       'num_verb', 'num_adv', 'num_conj', 'num_numeral', 'num_para',\n",
    "       'title_ratio_keyword', 'ratio_uni_char', 'ratio_uni_word', 'ratio_punc',\n",
    "       'ratio_noun', 'ratio_verb', 'ratio_adj', 'ratio_adv', 'ratio_conj',\n",
    "       'ratio_numeral', 'ratio_char_para', 'ratio_word_para', 'doctype']\n",
    "ts = ts[cols]"
   ]
  },
  {
   "cell_type": "code",
   "execution_count": 17,
   "metadata": {},
   "outputs": [],
   "source": [
    "ts.to_csv('data/training_set.csv', header = True, index=False)"
   ]
  },
  {
   "cell_type": "markdown",
   "metadata": {},
   "source": [
    "## check new dataset"
   ]
  },
  {
   "cell_type": "code",
   "execution_count": 18,
   "metadata": {},
   "outputs": [
    {
     "name": "stderr",
     "output_type": "stream",
     "text": [
      "/home/yuanhang/anaconda3/lib/python3.8/site-packages/IPython/core/interactiveshell.py:3437: DtypeWarning: Columns (32) have mixed types.Specify dtype option on import or set low_memory=False.\n",
      "  exec(code_obj, self.user_global_ns, self.user_ns)\n"
     ]
    },
    {
     "name": "stdout",
     "output_type": "stream",
     "text": [
      "<class 'pandas.core.frame.DataFrame'>\n",
      "RangeIndex: 576509 entries, 0 to 576508\n",
      "Data columns (total 33 columns):\n",
      " #   Column               Non-Null Count   Dtype  \n",
      "---  ------               --------------   -----  \n",
      " 0   id                   576499 non-null  object \n",
      " 1   title                576466 non-null  object \n",
      " 2   body                 576466 non-null  object \n",
      " 3   category             576454 non-null  float64\n",
      " 4   title_num_char       576454 non-null  float64\n",
      " 5   title_num_word       576454 non-null  float64\n",
      " 6   title_num_keyword    576454 non-null  float64\n",
      " 7   num_char             576454 non-null  float64\n",
      " 8   num_char_del_stop    576454 non-null  float64\n",
      " 9   num_uni_char         576454 non-null  float64\n",
      " 10  num_punc             576454 non-null  float64\n",
      " 11  num_word             576454 non-null  float64\n",
      " 12  num_uni_word         576454 non-null  float64\n",
      " 13  num_noun             576454 non-null  float64\n",
      " 14  num_adj              576454 non-null  float64\n",
      " 15  num_verb             576454 non-null  float64\n",
      " 16  num_adv              576454 non-null  float64\n",
      " 17  num_conj             576454 non-null  float64\n",
      " 18  num_numeral          576454 non-null  float64\n",
      " 19  num_para             576454 non-null  float64\n",
      " 20  title_ratio_keyword  576454 non-null  float64\n",
      " 21  ratio_uni_char       576454 non-null  float64\n",
      " 22  ratio_uni_word       576454 non-null  float64\n",
      " 23  ratio_punc           576454 non-null  float64\n",
      " 24  ratio_noun           576454 non-null  float64\n",
      " 25  ratio_verb           576454 non-null  float64\n",
      " 26  ratio_adj            576454 non-null  float64\n",
      " 27  ratio_adv            576454 non-null  float64\n",
      " 28  ratio_conj           576454 non-null  float64\n",
      " 29  ratio_numeral        576454 non-null  float64\n",
      " 30  ratio_char_para      576442 non-null  float64\n",
      " 31  ratio_word_para      576442 non-null  float64\n",
      " 32  doctype              76454 non-null   object \n",
      "dtypes: float64(29), object(4)\n",
      "memory usage: 145.1+ MB\n"
     ]
    }
   ],
   "source": [
    "training_path = 'data/training_set.csv'\n",
    "ds = pd.read_csv(training_path)\n",
    "ds.info()"
   ]
  },
  {
   "cell_type": "markdown",
   "metadata": {},
   "source": [
    "well ... BAD!"
   ]
  },
  {
   "cell_type": "markdown",
   "metadata": {},
   "source": [
    "## seperate them"
   ]
  },
  {
   "cell_type": "code",
   "execution_count": 28,
   "metadata": {},
   "outputs": [],
   "source": [
    "id_body = ts[['id','body']].to_numpy().tolist()"
   ]
  },
  {
   "cell_type": "code",
   "execution_count": 30,
   "metadata": {},
   "outputs": [],
   "source": [
    "with open('./data/train_corpus.json','w') as f:\n",
    "    json.dump(id_body, f)"
   ]
  },
  {
   "cell_type": "markdown",
   "metadata": {},
   "source": [
    "## let's check again"
   ]
  },
  {
   "cell_type": "code",
   "execution_count": 3,
   "metadata": {},
   "outputs": [],
   "source": [
    "with open('./data/train_corpus.json','r') as f:\n",
    "    id_body = json.load(f)\n",
    "id_body = pd.DataFrame(id_body, columns = ['id','body'])"
   ]
  },
  {
   "cell_type": "code",
   "execution_count": 4,
   "metadata": {},
   "outputs": [
    {
     "data": {
      "text/html": [
       "<div>\n",
       "<style scoped>\n",
       "    .dataframe tbody tr th:only-of-type {\n",
       "        vertical-align: middle;\n",
       "    }\n",
       "\n",
       "    .dataframe tbody tr th {\n",
       "        vertical-align: top;\n",
       "    }\n",
       "\n",
       "    .dataframe thead th {\n",
       "        text-align: right;\n",
       "    }\n",
       "</style>\n",
       "<table border=\"1\" class=\"dataframe\">\n",
       "  <thead>\n",
       "    <tr style=\"text-align: right;\">\n",
       "      <th></th>\n",
       "      <th>id</th>\n",
       "      <th>body</th>\n",
       "    </tr>\n",
       "  </thead>\n",
       "  <tbody>\n",
       "    <tr>\n",
       "      <th>0</th>\n",
       "      <td>0e7668c6-a98d-11eb-8239-7788095c0b0f</td>\n",
       "      <td>篮球——CBA第四阶段：辽宁本钢迎战吉林九台农场银行。篮球——CBA第四阶段：辽宁本钢迎战吉...</td>\n",
       "    </tr>\n",
       "    <tr>\n",
       "      <th>1</th>\n",
       "      <td>0e766c68-a98d-11eb-8239-7788095c0b0f</td>\n",
       "      <td>这4种家电，有人相见恨晚，有人感觉鸡肋，主要是价格不一样。这4种家电，有人相见恨晚，有人感觉...</td>\n",
       "    </tr>\n",
       "    <tr>\n",
       "      <th>2</th>\n",
       "      <td>0e766e70-a98d-11eb-8239-7788095c0b0f</td>\n",
       "      <td>PEHCHAOLIN 百雀羚 肌初赋活系列肌初赋活护肤套装。PEHCHAOLIN 百雀羚 肌...</td>\n",
       "    </tr>\n",
       "    <tr>\n",
       "      <th>3</th>\n",
       "      <td>0e766fd8-a98d-11eb-8239-7788095c0b0f</td>\n",
       "      <td>XTEP 特步男鞋运动鞋男夏季透气2020年新品男士休闲鞋潮流老爹鞋男潮鞋。XTEP 特步男...</td>\n",
       "    </tr>\n",
       "    <tr>\n",
       "      <th>4</th>\n",
       "      <td>0e7671cc-a98d-11eb-8239-7788095c0b0f</td>\n",
       "      <td>冲3连红，NBA预测：马刺VS鹈鹕，众星缺阵，鹈鹕迎来好机会。冲3连红，NBA预测：马刺VS...</td>\n",
       "    </tr>\n",
       "  </tbody>\n",
       "</table>\n",
       "</div>"
      ],
      "text/plain": [
       "                                     id  \\\n",
       "0  0e7668c6-a98d-11eb-8239-7788095c0b0f   \n",
       "1  0e766c68-a98d-11eb-8239-7788095c0b0f   \n",
       "2  0e766e70-a98d-11eb-8239-7788095c0b0f   \n",
       "3  0e766fd8-a98d-11eb-8239-7788095c0b0f   \n",
       "4  0e7671cc-a98d-11eb-8239-7788095c0b0f   \n",
       "\n",
       "                                                body  \n",
       "0  篮球——CBA第四阶段：辽宁本钢迎战吉林九台农场银行。篮球——CBA第四阶段：辽宁本钢迎战吉...  \n",
       "1  这4种家电，有人相见恨晚，有人感觉鸡肋，主要是价格不一样。这4种家电，有人相见恨晚，有人感觉...  \n",
       "2  PEHCHAOLIN 百雀羚 肌初赋活系列肌初赋活护肤套装。PEHCHAOLIN 百雀羚 肌...  \n",
       "3  XTEP 特步男鞋运动鞋男夏季透气2020年新品男士休闲鞋潮流老爹鞋男潮鞋。XTEP 特步男...  \n",
       "4  冲3连红，NBA预测：马刺VS鹈鹕，众星缺阵，鹈鹕迎来好机会。冲3连红，NBA预测：马刺VS...  "
      ]
     },
     "execution_count": 4,
     "metadata": {},
     "output_type": "execute_result"
    }
   ],
   "source": [
    "id_body.head()"
   ]
  },
  {
   "cell_type": "code",
   "execution_count": null,
   "metadata": {},
   "outputs": [],
   "source": []
  }
 ],
 "metadata": {
  "kernelspec": {
   "display_name": "Python 3",
   "language": "python",
   "name": "python3"
  },
  "language_info": {
   "codemirror_mode": {
    "name": "ipython",
    "version": 3
   },
   "file_extension": ".py",
   "mimetype": "text/x-python",
   "name": "python",
   "nbconvert_exporter": "python",
   "pygments_lexer": "ipython3",
   "version": "3.8.5"
  }
 },
 "nbformat": 4,
 "nbformat_minor": 4
}
