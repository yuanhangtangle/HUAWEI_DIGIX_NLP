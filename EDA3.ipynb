{
 "cells": [
  {
   "cell_type": "code",
   "execution_count": 1,
   "metadata": {},
   "outputs": [],
   "source": [
    "import pandas as pd\n",
    "import json\n",
    "import os\n",
    "#from utils.utils import read_json_to_dataframe"
   ]
  },
  {
   "cell_type": "code",
   "execution_count": 4,
   "metadata": {},
   "outputs": [
    {
     "name": "stdout",
     "output_type": "stream",
     "text": [
      "<class 'pandas.core.frame.DataFrame'>\n",
      "RangeIndex: 576454 entries, 0 to 576453\n",
      "Data columns (total 29 columns):\n",
      " #   Column               Non-Null Count   Dtype  \n",
      "---  ------               --------------   -----  \n",
      " 0   id                   576454 non-null  object \n",
      " 1   title_num_char       576454 non-null  int64  \n",
      " 2   title_num_word       576454 non-null  int64  \n",
      " 3   title_num_keyword    576454 non-null  int64  \n",
      " 4   num_char             576454 non-null  int64  \n",
      " 5   num_char_del_stop    576454 non-null  int64  \n",
      " 6   num_uni_char         576454 non-null  int64  \n",
      " 7   num_punc             576454 non-null  int64  \n",
      " 8   num_word             576454 non-null  int64  \n",
      " 9   num_uni_word         576454 non-null  int64  \n",
      " 10  num_noun             576454 non-null  int64  \n",
      " 11  num_adj              576454 non-null  int64  \n",
      " 12  num_verb             576454 non-null  int64  \n",
      " 13  num_adv              576454 non-null  int64  \n",
      " 14  num_conj             576454 non-null  int64  \n",
      " 15  num_numeral          576454 non-null  int64  \n",
      " 16  num_para             576454 non-null  int64  \n",
      " 17  title_ratio_keyword  576454 non-null  float64\n",
      " 18  ratio_uni_char       576454 non-null  float64\n",
      " 19  ratio_uni_word       576454 non-null  float64\n",
      " 20  ratio_punc           576454 non-null  float64\n",
      " 21  ratio_noun           576454 non-null  float64\n",
      " 22  ratio_verb           576454 non-null  float64\n",
      " 23  ratio_adj            576454 non-null  float64\n",
      " 24  ratio_adv            576454 non-null  float64\n",
      " 25  ratio_conj           576454 non-null  float64\n",
      " 26  ratio_numeral        576454 non-null  float64\n",
      " 27  ratio_char_para      576454 non-null  float64\n",
      " 28  ratio_word_para      576454 non-null  float64\n",
      "dtypes: float64(12), int64(16), object(1)\n",
      "memory usage: 127.5+ MB\n"
     ]
    }
   ],
   "source": [
    "train_wc_path = './data/train_wc.csv'\n",
    "wc = pd.read_csv(train_wc_path)\n",
    "wc.drop(columns = ['title','category','doctype'], inplace = True)\n",
    "wc.info()"
   ]
  },
  {
   "cell_type": "code",
   "execution_count": null,
   "metadata": {},
   "outputs": [],
   "source": [
    "wc.to_csv(train_wc_path)"
   ]
  },
  {
   "cell_type": "code",
   "execution_count": 7,
   "metadata": {},
   "outputs": [
    {
     "name": "stdout",
     "output_type": "stream",
     "text": [
      "<class 'pandas.core.frame.DataFrame'>\n",
      "RangeIndex: 45285 entries, 0 to 45284\n",
      "Data columns (total 29 columns):\n",
      " #   Column               Non-Null Count  Dtype  \n",
      "---  ------               --------------  -----  \n",
      " 0   id                   45285 non-null  object \n",
      " 1   title_num_char       45285 non-null  int64  \n",
      " 2   title_num_word       45285 non-null  int64  \n",
      " 3   title_num_keyword    45285 non-null  int64  \n",
      " 4   num_char             45285 non-null  int64  \n",
      " 5   num_char_del_stop    45285 non-null  int64  \n",
      " 6   num_uni_char         45285 non-null  int64  \n",
      " 7   num_punc             45285 non-null  int64  \n",
      " 8   num_word             45285 non-null  int64  \n",
      " 9   num_uni_word         45285 non-null  int64  \n",
      " 10  num_noun             45285 non-null  int64  \n",
      " 11  num_adj              45285 non-null  int64  \n",
      " 12  num_verb             45285 non-null  int64  \n",
      " 13  num_adv              45285 non-null  int64  \n",
      " 14  num_conj             45285 non-null  int64  \n",
      " 15  num_numeral          45285 non-null  int64  \n",
      " 16  num_para             45285 non-null  int64  \n",
      " 17  title_ratio_keyword  45285 non-null  float64\n",
      " 18  ratio_uni_char       45285 non-null  float64\n",
      " 19  ratio_uni_word       45285 non-null  float64\n",
      " 20  ratio_punc           45285 non-null  float64\n",
      " 21  ratio_noun           45285 non-null  float64\n",
      " 22  ratio_verb           45285 non-null  float64\n",
      " 23  ratio_adj            45285 non-null  float64\n",
      " 24  ratio_adv            45285 non-null  float64\n",
      " 25  ratio_conj           45285 non-null  float64\n",
      " 26  ratio_numeral        45285 non-null  float64\n",
      " 27  ratio_char_para      45285 non-null  float64\n",
      " 28  ratio_word_para      45285 non-null  float64\n",
      "dtypes: float64(12), int64(16), object(1)\n",
      "memory usage: 10.0+ MB\n"
     ]
    }
   ],
   "source": [
    "test_wc_path = './data/test_wc.csv'\n",
    "wc = pd.read_csv(test_wc_path)\n",
    "wc.drop(columns = ['title','category'], inplace = True)\n",
    "wc.info()"
   ]
  },
  {
   "cell_type": "code",
   "execution_count": 8,
   "metadata": {},
   "outputs": [],
   "source": [
    "wc.to_csv(test_wc_path)"
   ]
  }
 ],
 "metadata": {
  "kernelspec": {
   "display_name": "Python 3",
   "language": "python",
   "name": "python3"
  },
  "language_info": {
   "codemirror_mode": {
    "name": "ipython",
    "version": 3
   },
   "file_extension": ".py",
   "mimetype": "text/x-python",
   "name": "python",
   "nbconvert_exporter": "python",
   "pygments_lexer": "ipython3",
   "version": "3.8.5"
  }
 },
 "nbformat": 4,
 "nbformat_minor": 4
}
